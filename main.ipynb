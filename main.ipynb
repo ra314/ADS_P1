{
 "cells": [
  {
   "cell_type": "code",
   "execution_count": 138,
   "id": "7a668eb0",
   "metadata": {},
   "outputs": [
    {
     "name": "stderr",
     "output_type": "stream",
     "text": [
      "                                                                                \r"
     ]
    }
   ],
   "source": [
    "from pyspark.sql import SparkSession\n",
    "import pyspark.sql\n",
    "from pyspark.sql.functions import col\n",
    "import warnings\n",
    "warnings.filterwarnings(\"ignore\")\n",
    "from pyspark.sql.types import *\n",
    "import datetime\n",
    "import pandas as pd\n",
    "\n",
    "# Create a spark session (which will run spark jobs)\n",
    "spark = SparkSession.builder.getOrCreate()\n",
    "spark.conf.set('spark.sql.execution.arrow.pyspark.enabled', True)\n",
    "spark.sparkContext.setLogLevel(\"OFF\")\n",
    "\n",
    "### Reading in the Data\n",
    "taxi_type = \"yellow\"\n",
    "data_dir = 'data/' + taxi_type + '*'\n",
    "sdf = spark.read.csv(data_dir, header=True)\n",
    "f\"{sdf.count():,} rows!\"\n",
    "\n",
    "### Code below created by modifying code by Akira Takihara Wang\n",
    "### https://github.com/akiratwang/MAST30034_Python/blob/main/advanced_tutorials/Spark%20Tutorial.ipynb\n",
    "def create_schema(data_dir):\n",
    "    ints = ['VendorID', 'passenger_count', 'RateCodeID', 'RatecodeID','payment_type', 'PULocationID', 'DOLocationID']\n",
    "    doubles = ['trip_distance','fare_amount', 'extra', 'mta_tax', 'tip_amount', 'tolls_amount', 'improvement_surcharge', 'total_amount', 'congestion_surcharge']\n",
    "    strings = ['store_and_fwd_flag']\n",
    "    dtimes = ['tpep_pickup_datetime', 'tpep_dropoff_datetime']\n",
    "    \n",
    "    if taxi_type == \"green\":\n",
    "        doubles.append(\"ehail_fee\")\n",
    "        ints.append(\"trip_type\")\n",
    "        dtimes = ['lpep_pickup_datetime', 'lpep_dropoff_datetime']\n",
    "\n",
    "    dtypes = {column: IntegerType() for column in ints}\n",
    "    dtypes.update({column: DoubleType() for column in doubles})\n",
    "    dtypes.update({column: StringType() for column in strings})\n",
    "    dtypes.update({column: TimestampType() for column in dtimes})\n",
    "\n",
    "    schema = StructType()\n",
    "\n",
    "    for column in sdf.columns:\n",
    "        schema.add(column, # column name\n",
    "                   dtypes[column], # data type\n",
    "                   True # is nullable?\n",
    "                  )\n",
    "    return schema\n",
    "\n",
    "schema = create_schema(data_dir)\n",
    "sdf = spark.read.csv(data_dir, header=True, schema=schema) \\\n",
    "    .withColumnRenamed(\"RatecodeID\",\"RateCodeID\") # rename the wrong column\n",
    "# Renaming lpep columns to tpep, for consistency so that it worths with later cuntions\n",
    "sdf = sdf.withColumnRenamed(\"lpep_pickup_datetime\",\"tpep_pickup_datetime\")\n",
    "sdf = sdf.withColumnRenamed(\"lpep_dropoff_datetime\",\"tpep_dropoff_datetime\")"
   ]
  },
  {
   "cell_type": "code",
   "execution_count": null,
   "id": "6231fa8c",
   "metadata": {},
   "outputs": [],
   "source": [
    "### Data cleaning\n",
    "# Removing entries not actually in 2020\n",
    "sdf = sdf.filter((sdf.tpep_pickup_datetime >= datetime.datetime(2020,1,1,0,0,0)) & \\\n",
    "    (sdf.tpep_pickup_datetime < datetime.datetime(2021,1,1,0,0,0)))  \n",
    "# Finding the min time, to verify it is infact the first day of 2020\n",
    "time = sdf.select(pyspark.sql.functions.min(\"tpep_pickup_datetime\")).collect()[0][0]\n",
    "print(f\"The first entry for a cab is at {time}\")"
   ]
  },
  {
   "cell_type": "code",
   "execution_count": null,
   "id": "3b73a962",
   "metadata": {},
   "outputs": [],
   "source": [
    "### Getting the proportions of cars that are hailed, vs ordered, vs NA\n",
    "# Only applicable to green cab\n",
    "nums = list(sdf.groupby(\"trip_type\").count().collect()) # Getting counts of trip types\n",
    "nums = list(map(lambda x: list(x)[1], nums))    # Flattening\n",
    "nums = list(map(lambda x: x/sum(nums), nums))   # Converting to percentage of total\n",
    "print(f\"NULL: {nums[0]*100:.2f}%, Street Hail: {nums[1]*100:.2f}%, Dispath: {nums[2]*100:.2f}%\")"
   ]
  },
  {
   "cell_type": "code",
   "execution_count": null,
   "id": "6705b91a",
   "metadata": {},
   "outputs": [],
   "source": [
    "### Get the average number of pickups in a 10 minute interval in a given PU location ID\n",
    "print(f\"There are {sdf.count()} trips in total and {sdf.select('PULocationID').distinct().count()} \\\n",
    "    unique PULocationIDs.\")\n",
    "num = sdf.count()/sdf.select(\"PULocationID\").distinct().count()/366/24/6\n",
    "print(f\"In a 10 minute interval in a given location ID there are on average {num:.2f} trips.\")\n",
    "\n",
    "# Getting the number of location IDs\n",
    "num_locations = sdf.agg({'PULocationID': 'max'}).collect()[0][0]\n",
    "temp_sdf_date = datetime.datetime(2020,1,1)\n",
    "curr_pickup_time = datetime.datetime(2020,1,1,0,0,0)"
   ]
  },
  {
   "cell_type": "code",
   "execution_count": null,
   "id": "2fb5795b",
   "metadata": {},
   "outputs": [],
   "source": [
    "# This block is all about creating an animation to show the density of pickups at location ids over time\n",
    "# Gets the number of pickups in the given time interval from the temporary sdf (temp_sdf)\n",
    "def get_pickups(time_interval_in_seconds):\n",
    "    global curr_pickup_time\n",
    "    num_pickups = list([0]*num_locations)\n",
    "    \n",
    "    sdf_within_interval = temp_sdf.filter((temp_sdf.tpep_pickup_datetime >= curr_pickup_time) & \\\n",
    "        (temp_sdf.tpep_pickup_datetime < \\\n",
    "        curr_pickup_time + datetime.timedelta(seconds = time_interval_in_seconds)))\n",
    "    counts = sdf_within_interval.groupby(\"PULocationID\").count().collect()\n",
    "    for count in counts:\n",
    "        num_pickups[count[0]-1] = count[1]\n",
    "    \n",
    "    curr_pickup_time += datetime.timedelta(seconds = time_interval_in_seconds)\n",
    "    if curr_pickup_time > temp_sdf_date:\n",
    "        populate_temp_sdf()\n",
    "    return num_pickups\n",
    "\n",
    "# Creates a df with the next days event's, returns None if 2021 is reached.\n",
    "# This is hard coded since the anaylsed data is from 2020\n",
    "def populate_temp_sdf():\n",
    "    global temp_sdf_date\n",
    "    \n",
    "    if temp_sdf_date == datetime.datetime(2021, 1, 1):\n",
    "        return None\n",
    "    \n",
    "    temp_sdf = sdf.filter((sdf.tpep_pickup_datetime >= temp_sdf_date) & \\\n",
    "        (sdf.tpep_pickup_datetime < temp_sdf_date + datetime.timedelta(days=1)))\n",
    "    temp_sdf.cache()\n",
    "    \n",
    "    temp_sdf_date += datetime.timedelta(days=1)\n",
    "    \n",
    "    return temp_sdf\n",
    "\n",
    "temp_sdf = populate_temp_sdf()\n",
    "\n",
    "import matplotlib.pyplot as plt\n",
    "from matplotlib.animation import FuncAnimation\n",
    "\n",
    "import matplotlib.animation as animation\n",
    "fig = plt.figure()\n",
    "#creating a subplot \n",
    "ax1 = fig.add_subplot(1,1,1)\n",
    "def animate(i):\n",
    "    ax1.clear()\n",
    "    \n",
    "    plt.title(f'Pick Up Density over Time - {curr_pickup_time}')\n",
    "    plt.xlabel('Location IDs')\n",
    "    plt.ylabel('Number of Pickups')\n",
    "    plt.ylim(top=100)\n",
    "    \n",
    "    locations = list(range(1, num_locations+1))\n",
    "    num_pickups = get_pickups(60*10) # 10 minute interval\n",
    "    ax1.bar(locations, num_pickups)\n",
    "    \n",
    "ani = animation.FuncAnimation(fig, animate, interval=250, frames=6*23) \n",
    "ani.save('sine_wave.gif', writer='imagemagick')"
   ]
  },
  {
   "cell_type": "code",
   "execution_count": null,
   "id": "ae2ec520",
   "metadata": {},
   "outputs": [],
   "source": [
    "### A small test of regression in spark\n",
    "from pyspark.ml.regression import LinearRegression\n",
    "from pyspark.ml.feature import VectorAssembler\n",
    "tiny_sdf = spark.read.csv(\"tmp.csv\", header = True)\n",
    "schema = StructType()\n",
    "ints = ('MATH', 'CS', 'Score')\n",
    "dtypes = {column: IntegerType() for column in ints}\n",
    "schema = StructType()\n",
    "\n",
    "for column in tiny_sdf.columns:\n",
    "    schema.add(column, # column name\n",
    "               dtypes[column], # data type\n",
    "               True # is nullable?\n",
    "              )\n",
    "\n",
    "tiny_sdf = spark.read.csv(\"tmp.csv\", header = True, schema=schema)\n",
    "\n",
    "vectorAssembler = VectorAssembler(inputCols = ['MATH', 'CS'], outputCol = 'features')\n",
    "tiny_sdf = vectorAssembler.transform(tiny_sdf)\n",
    "lr = LinearRegression(maxIter=10, regParam=0.3, elasticNetParam=0.8, labelCol='Score', featuresCol = 'features')\n",
    "model = lr.fit(tiny_sdf)\n",
    "tiny_sdf.show()\n",
    "for i in range(4):\n",
    "    model.predict(tiny_sdf.head(4)[i].features)"
   ]
  },
  {
   "cell_type": "code",
   "execution_count": 147,
   "id": "918ff9fa",
   "metadata": {
    "scrolled": false
   },
   "outputs": [
    {
     "name": "stdout",
     "output_type": "stream",
     "text": [
      "+-----------+-----------+-------------+------------+\n",
      "|day_of_year|day_of_week|time_interval|PULocationID|\n",
      "+-----------+-----------+-------------+------------+\n",
      "|        336|          1|            0|         138|\n",
      "|        336|          1|            4|         140|\n",
      "|        336|          1|            3|         132|\n",
      "|        336|          1|            0|         238|\n",
      "|        336|          1|            3|         238|\n",
      "+-----------+-----------+-------------+------------+\n",
      "only showing top 5 rows\n",
      "\n"
     ]
    }
   ],
   "source": [
    "### Reducing sdf into a structure (sdf2) containing the day of the year (1-365), the day of the week (1-7)\n",
    "###, the time_interval and the location ID for each taxi trip\n",
    "def transform(x):\n",
    "    time = x.tpep_pickup_datetime\n",
    "    time_interval = 60*10 # 10 minute interval\n",
    "    time_interval_index = ((time.hour*3600) + (time.minute*60) + (time.second))//time_interval\n",
    "    return time.timetuple().tm_yday, time.weekday(), time_interval_index, x.PULocationID\n",
    "\n",
    "from os import path\n",
    "if path.isdir(f\"Intervaled_{taxi_type}\"):\n",
    "    ### Reading an existing sdf2\n",
    "    sdf2 = spark.read.csv(f\"Intervaled_{taxi_type}\", header=True)\n",
    "    ints = [\"day_of_year\", \"day_of_week\", \"time_interval\", \"PULocationID\"]\n",
    "    dtypes = {column: IntegerType() for column in ints}\n",
    "    schema = StructType()\n",
    "    [schema.add(column, dtypes[column], True) for column in sdf2.columns]\n",
    "    sdf2 = spark.read.csv(f\"Intervaled_{taxi_type}\", header=True, schema = schema)\n",
    "else:\n",
    "    rdd2 = sdf.rdd.map(transform)\n",
    "    sdf2 = rdd2.toDF([\"day_of_year\", \"day_of_week\", \"time_interval\",\"PULocationID\"])\n",
    "    sdf2.write.csv(f\"Intervaled_{taxi_type}\", header = True)\n",
    "    sdf2.persist(pyspark.StorageLevel.DISK_ONLY)\n",
    "\n",
    "sdf2.show(5)"
   ]
  },
  {
   "cell_type": "code",
   "execution_count": 179,
   "id": "b0a79a2f",
   "metadata": {},
   "outputs": [
    {
     "name": "stdout",
     "output_type": "stream",
     "text": [
      "+-----------+-----------+-------------+------------+------+\n",
      "|day_of_year|day_of_week|time_interval|PULocationID|counts|\n",
      "+-----------+-----------+-------------+------------+------+\n",
      "|        336|          1|            1|         234|     1|\n",
      "|        336|          1|            1|         236|     1|\n",
      "|        336|          1|            6|         161|     1|\n",
      "|        336|          1|           13|         132|     1|\n",
      "+-----------+-----------+-------------+------------+------+\n",
      "only showing top 4 rows\n",
      "\n",
      "2930148\n"
     ]
    },
    {
     "data": {
      "text/plain": [
       "DataFrame[day_of_year: int, day_of_week: int, time_interval: int, PULocationID: int, counts: bigint]"
      ]
     },
     "execution_count": 179,
     "metadata": {},
     "output_type": "execute_result"
    }
   ],
   "source": [
    "### Aggregate sdf2 to get the number of trips \\\n",
    "### on a given day of the year, in a given time interval in a location -> sdf3\n",
    "sdf3 = sdf2.groupby([\"day_of_year\", \"day_of_week\", \"time_interval\", \"PULocationID\"]).count()\n",
    "sdf3 = sdf3.withColumnRenamed(\"count\",\"counts\")\n",
    "sdf3.show(4)\n",
    "print(sdf3.count())\n",
    "sdf3.persist(pyspark.StorageLevel.DISK_ONLY)"
   ]
  },
  {
   "cell_type": "code",
   "execution_count": 180,
   "id": "dd1ceea9",
   "metadata": {},
   "outputs": [
    {
     "name": "stdout",
     "output_type": "stream",
     "text": [
      "+-----------+-----------+------+------------+-------------+\n",
      "|day_of_year|day_of_week|counts|PULocationID|time_interval|\n",
      "+-----------+-----------+------+------------+-------------+\n",
      "|          1|          2|     0|           1|            0|\n",
      "|          1|          2|     0|           1|            1|\n",
      "|          1|          2|     0|           1|            2|\n",
      "|          1|          2|     0|           1|            3|\n",
      "|          1|          2|     0|           1|            4|\n",
      "+-----------+-----------+------+------------+-------------+\n",
      "only showing top 5 rows\n",
      "\n",
      "13966560\n",
      "2930148\n"
     ]
    },
    {
     "name": "stderr",
     "output_type": "stream",
     "text": [
      "                                                                                \r"
     ]
    },
    {
     "name": "stdout",
     "output_type": "stream",
     "text": [
      "+-----------+-----------+------+------------+-------------+\n",
      "|day_of_year|day_of_week|counts|PULocationID|time_interval|\n",
      "+-----------+-----------+------+------------+-------------+\n",
      "|          1|          2|     0|          78|            0|\n",
      "|          1|          2|     0|          56|            1|\n",
      "|          1|          2|     0|           3|            2|\n",
      "|          1|          2|     0|          59|            2|\n",
      "|          1|          2|     0|         195|            5|\n",
      "+-----------+-----------+------+------------+-------------+\n",
      "only showing top 5 rows\n",
      "\n"
     ]
    },
    {
     "name": "stderr",
     "output_type": "stream",
     "text": [
      "                                                                                \r"
     ]
    },
    {
     "name": "stdout",
     "output_type": "stream",
     "text": [
      "11036412\n"
     ]
    },
    {
     "name": "stderr",
     "output_type": "stream",
     "text": [
      "                                                                                \r"
     ]
    },
    {
     "name": "stdout",
     "output_type": "stream",
     "text": [
      "+-----------+-----------+-------------+------------+------+\n",
      "|day_of_year|day_of_week|time_interval|PULocationID|counts|\n",
      "+-----------+-----------+-------------+------------+------+\n",
      "|        336|          1|            1|         234|     1|\n",
      "|        336|          1|            1|         236|     1|\n",
      "|        336|          1|            6|         161|     1|\n",
      "|        336|          1|           13|         132|     1|\n",
      "|        336|          1|           47|         162|     8|\n",
      "+-----------+-----------+-------------+------------+------+\n",
      "only showing top 5 rows\n",
      "\n"
     ]
    },
    {
     "name": "stderr",
     "output_type": "stream",
     "text": [
      "[Stage 1265:===================================================>(399 + 1) / 400]\r"
     ]
    },
    {
     "name": "stdout",
     "output_type": "stream",
     "text": [
      "13966560\n"
     ]
    },
    {
     "name": "stderr",
     "output_type": "stream",
     "text": [
      "\r",
      "                                                                                \r"
     ]
    }
   ],
   "source": [
    "### Adding 0 count values to keys where there were no trips, these do not otherwise show up\n",
    "\n",
    "### Creating the list of every day_of_year and day_of_week in a manner that they're in sync\n",
    "temp_sdf_date = datetime.datetime(2020,1,1)\n",
    "days_of_year_and_week = []\n",
    "while temp_sdf_date != datetime.datetime(2021, 1, 1):\n",
    "    days_of_year_and_week.append((temp_sdf_date.timetuple().tm_yday, temp_sdf_date.weekday(), 0))\n",
    "    temp_sdf_date += datetime.timedelta(days=1)\n",
    "\n",
    "temp_sdf1 = spark.createDataFrame(data=days_of_year_and_week, schema = [\"day_of_year\", \"day_of_week\", \"counts\"])\n",
    "temp_sdf2 = spark.range(1, num_locations+1).withColumnRenamed(\"id\",\"PULocationID\")\n",
    "# Cross join to get every combiantion of location ID and day of year\n",
    "temp_sdf3 = temp_sdf1.crossJoin(temp_sdf2)\n",
    "num_time_intervals = int((24*60*60)/(60*10)) # Num of seconds in a day, divided by num of seconds in 10 minutes\n",
    "temp_sdf4 = spark.range(0, num_time_intervals).withColumnRenamed(\"id\",\"time_interval\")\n",
    "# Cross join to get every combiantion of location ID and day of year and time_interval\n",
    "temp_sdf5 = temp_sdf3.crossJoin(temp_sdf4)\n",
    "temp_sdf5.show(5)\n",
    "print(temp_sdf5.count())\n",
    "print(sdf3.count())\n",
    "\n",
    "# Removing rows in temp_sdf5 that are already in sdf3, so these are non zero counts\n",
    "temp_sdf5 = temp_sdf5.join(sdf3, [sdf3.day_of_year == temp_sdf5.day_of_year,\\\n",
    "                            sdf3.time_interval == temp_sdf5.time_interval,\\\n",
    "                            sdf3.PULocationID == temp_sdf5.PULocationID],\"leftanti\")\n",
    "temp_sdf5.show(5)\n",
    "print(temp_sdf5.count())\n",
    "\n",
    "# Now union temp_sdf5 with sdf3 to get those zero counts back into sdf3\n",
    "sdf3 = sdf3.union(temp_sdf5)\n",
    "sdf3.show(5)\n",
    "sdf3.persist(pyspark.StorageLevel.DISK_ONLY)\n",
    "print(sdf3.count())\n"
   ]
  },
  {
   "cell_type": "code",
   "execution_count": 557,
   "id": "13e57322",
   "metadata": {
    "scrolled": true
   },
   "outputs": [
    {
     "name": "stderr",
     "output_type": "stream",
     "text": [
      "                                                                                \r"
     ]
    },
    {
     "name": "stdout",
     "output_type": "stream",
     "text": [
      "+-----------+-----------+-------------+------------+------+---------------+-----------------+-----------------+\n",
      "|day_of_year|day_of_week|time_interval|PULocationID|counts|day_of_week_vec|time_interval_vec| PULocationID_vec|\n",
      "+-----------+-----------+-------------+------------+------+---------------+-----------------+-----------------+\n",
      "|        336|          1|            1|         234|     1|  (6,[1],[1.0])|  (143,[1],[1.0])|(265,[234],[1.0])|\n",
      "|        336|          1|            1|         236|     1|  (6,[1],[1.0])|  (143,[1],[1.0])|(265,[236],[1.0])|\n",
      "|        336|          1|            6|         161|     1|  (6,[1],[1.0])|  (143,[6],[1.0])|(265,[161],[1.0])|\n",
      "|        336|          1|           13|         132|     1|  (6,[1],[1.0])| (143,[13],[1.0])|(265,[132],[1.0])|\n",
      "|        336|          1|           47|         162|     8|  (6,[1],[1.0])| (143,[47],[1.0])|(265,[162],[1.0])|\n",
      "+-----------+-----------+-------------+------------+------+---------------+-----------------+-----------------+\n",
      "only showing top 5 rows\n",
      "\n"
     ]
    },
    {
     "name": "stderr",
     "output_type": "stream",
     "text": [
      "                                                                                \r"
     ]
    }
   ],
   "source": [
    "### One Hot Encoding the attributes of intesrest, day_of_week, time_interval, PULocationID -> sdf4\n",
    "### Then performing simple linear regression on a 70 30 split.\n",
    "from pyspark.ml.feature import VectorAssembler, OneHotEncoder\n",
    "from pyspark.ml.regression import LinearRegression\n",
    "\n",
    "sdf4 = OneHotEncoder(inputCols = [\"day_of_week\",\"time_interval\",\"PULocationID\"], \\\n",
    "                     outputCols = [\"day_of_week_vec\",\"time_interval_vec\",\"PULocationID_vec\"]).fit(sdf3).transform(sdf3)\n",
    "sdf4.show(5)\n",
    "vectorAssembler = VectorAssembler(inputCols = [\"day_of_week_vec\",\"time_interval_vec\",\"PULocationID_vec\"], \\\n",
    "                                  outputCol = 'features')\n",
    "sdf4 = vectorAssembler.transform(sdf4)\n",
    "lr = LinearRegression(maxIter=10, regParam=0.3, elasticNetParam=0.8, labelCol='counts', featuresCol = 'features')\n",
    "\n",
    "splits = sdf4.randomSplit([0.7, 0.3])\n",
    "train_sdf4 = splits[0]\n",
    "test_sdf4 = splits[1]\n",
    "                 \n",
    "lr_model = lr.fit(train_sdf4)"
   ]
  },
  {
   "cell_type": "code",
   "execution_count": 560,
   "id": "f61a7f3d",
   "metadata": {
    "scrolled": false
   },
   "outputs": [
    {
     "name": "stdout",
     "output_type": "stream",
     "text": [
      "RMSE: 38.404506\n",
      "r2: 0.297444\n"
     ]
    },
    {
     "name": "stderr",
     "output_type": "stream",
     "text": [
      "                                                                                \r"
     ]
    },
    {
     "name": "stdout",
     "output_type": "stream",
     "text": [
      "+------------------+------+--------------------+\n",
      "|        prediction|counts|            features|\n",
      "+------------------+------+--------------------+\n",
      "| 8.563245106624027|    55|(414,[2,13,380],[...|\n",
      "|12.852994098573195|   101|(414,[2,14,386],[...|\n",
      "| 7.286250220900919|    49|(414,[2,18,286],[...|\n",
      "|3.9601540968445432|    10|(414,[2,20,223],[...|\n",
      "| 7.302405577989433|    12|(414,[2,35,263],[...|\n",
      "+------------------+------+--------------------+\n",
      "only showing top 5 rows\n",
      "\n"
     ]
    },
    {
     "name": "stderr",
     "output_type": "stream",
     "text": [
      "                                                                                \r"
     ]
    },
    {
     "name": "stdout",
     "output_type": "stream",
     "text": [
      "R Squared (R2) on test data = 0.297497\n"
     ]
    },
    {
     "name": "stderr",
     "output_type": "stream",
     "text": [
      "[Stage 2607:===================================================>(399 + 1) / 400]\r"
     ]
    },
    {
     "name": "stdout",
     "output_type": "stream",
     "text": [
      "RMSE on test data = 38.4029\n"
     ]
    },
    {
     "name": "stderr",
     "output_type": "stream",
     "text": [
      "\r",
      "                                                                                \r"
     ]
    }
   ],
   "source": [
    "### Evaluate the linear regression model\n",
    "trainingSummary = lr_model.summary\n",
    "print(\"RMSE: %f\" % trainingSummary.rootMeanSquaredError)\n",
    "print(\"r2: %f\" % trainingSummary.r2)\n",
    "lr_model.evaluate(train_sdf4)\n",
    "\n",
    "from pyspark.ml.evaluation import RegressionEvaluator\n",
    "lr_predictions = lr_model.transform(test_sdf4)\n",
    "lr_predictions.select(\"prediction\",\"counts\",\"features\").show(5)\n",
    "lr_evaluator = RegressionEvaluator(predictionCol=\"prediction\", labelCol=\"counts\",metricName=\"r2\")\n",
    "print(\"R Squared (R2) on test data = %g\" % lr_evaluator.evaluate(lr_predictions))\n",
    "lr_evaluator = RegressionEvaluator(predictionCol=\"prediction\", labelCol=\"counts\",metricName=\"rmse\")\n",
    "print(\"RMSE on test data = %g\" % lr_evaluator.evaluate(lr_predictions))"
   ]
  },
  {
   "cell_type": "code",
   "execution_count": null,
   "id": "0e2b9cf1",
   "metadata": {},
   "outputs": [],
   "source": [
    "### Taken from \n",
    "### https://databricks-prod-cloudfront.cloud.databricks.com/public/4027ec902e239c93eaaa8714f173bcfc/1779476228152266/1437143569842658/5673666086694627/latest.html\n",
    "\n",
    "# evaluate RMSE\n",
    "from math import sqrt\n",
    "def calcRMSE(df, labelCol='label'):\n",
    "  \"\"\"Given a DataFrame with 'label' and 'prediction' columns, calculate the root-mean-squared error\n",
    "    Args:\n",
    "        df: a DataFrame with labels and predictions        \n",
    "    Returns:\n",
    "        Float\n",
    "  \"\"\"\n",
    "  return sqrt(float(df\n",
    "                     .rdd\n",
    "                     .map(lambda row: (row[labelCol]-row['prediction'])**2)\n",
    "                     .reduce(lambda a,b: a+b)\n",
    "                    ) / df.count() )\n",
    "\n",
    "# evaluate R-squared\n",
    "def calcRsq(df, labelCol='label'):\n",
    "  \"\"\"Given a DataFrame with 'label' and 'prediction' columns, calculate the R-squared diagnostic  \n",
    "    Args:\n",
    "        df: a DataFrame with labels and predictions        \n",
    "    Returns:\n",
    "        Float\n",
    "  \"\"\"\n",
    "  npts = df.count()\n",
    "  mean_label = float(df.rdd.map(lambda row: row[labelCol]).reduce(lambda a,b: a+b))/npts\n",
    "  total_squared_error = (df\n",
    "                        .rdd\n",
    "                        .map(lambda row: (row[labelCol]-mean_label)**2)\n",
    "                        .reduce(lambda a,b: a+b)\n",
    "                        )\n",
    "  squared_error = (df\n",
    "                   .rdd\n",
    "                   .map(lambda row: (row[labelCol]-row['prediction'])**2)\n",
    "                   .reduce(lambda a,b: a+b)\n",
    "                  )  \n",
    "  return (1.0 - float(squared_error) / total_squared_error)"
   ]
  },
  {
   "cell_type": "code",
   "execution_count": 193,
   "id": "0c26479d",
   "metadata": {
    "scrolled": false
   },
   "outputs": [
    {
     "name": "stderr",
     "output_type": "stream",
     "text": [
      "                                                                                \r"
     ]
    },
    {
     "name": "stdout",
     "output_type": "stream",
     "text": [
      "+-----------+-------------+------------+------+\n",
      "|day_of_week|time_interval|PULocationID|counts|\n",
      "+-----------+-------------+------------+------+\n",
      "|          1|            4|         263|    82|\n",
      "|          1|           41|         223|    15|\n",
      "|          1|           55|         107|   844|\n",
      "|          1|           72|          42|    91|\n",
      "+-----------+-------------+------------+------+\n",
      "only showing top 4 rows\n",
      "\n"
     ]
    },
    {
     "name": "stderr",
     "output_type": "stream",
     "text": [
      "                                                                                \r"
     ]
    },
    {
     "name": "stdout",
     "output_type": "stream",
     "text": [
      "+-----------+-------------+------------+------+\n",
      "|day_of_week|time_interval|PULocationID|counts|\n",
      "+-----------+-------------+------------+------+\n",
      "|          1|            4|         263|    82|\n",
      "|          1|           41|         223|    15|\n",
      "|          1|           55|         107|   844|\n",
      "|          1|           72|          42|    91|\n",
      "|          1|           71|         144|   175|\n",
      "+-----------+-------------+------------+------+\n",
      "only showing top 5 rows\n",
      "\n"
     ]
    },
    {
     "name": "stderr",
     "output_type": "stream",
     "text": [
      "                                                                                \r"
     ]
    },
    {
     "name": "stdout",
     "output_type": "stream",
     "text": [
      "+-----------+-------------+------------+-------------------+\n",
      "|day_of_week|time_interval|PULocationID|             counts|\n",
      "+-----------+-------------+------------+-------------------+\n",
      "|          1|            4|         263| 1.5683060109289617|\n",
      "|          1|           41|         223|0.28688524590163933|\n",
      "|          1|           55|         107|  16.14207650273224|\n",
      "|          1|           72|          42| 1.7404371584699454|\n",
      "+-----------+-------------+------------+-------------------+\n",
      "only showing top 4 rows\n",
      "\n"
     ]
    },
    {
     "name": "stderr",
     "output_type": "stream",
     "text": [
      "[Stage 1373:=================================================>  (379 + 4) / 400]\r"
     ]
    },
    {
     "name": "stdout",
     "output_type": "stream",
     "text": [
      "+-----------------+\n",
      "|      max(counts)|\n",
      "+-----------------+\n",
      "|55.77049180327869|\n",
      "+-----------------+\n",
      "\n"
     ]
    },
    {
     "name": "stderr",
     "output_type": "stream",
     "text": [
      "\r",
      "[Stage 1373:===================================================>(397 + 3) / 400]\r",
      "\r",
      "                                                                                \r"
     ]
    }
   ],
   "source": [
    "### Aggregate sdf2 to get the number of trips \\\n",
    "### on a given day of the week, in a given time interval in a location -> sdf3\n",
    "### This will form the basis for the BASELINE MODEL which is simply the average of the number of trips\n",
    "### on a day of the week, in a time interval, in a location ID\n",
    "sdf5 = sdf2.groupby([\"day_of_week\", \"time_interval\", \"PULocationID\"]).count()\n",
    "sdf5 = sdf5.withColumnRenamed(\"count\",\"counts\")\n",
    "sdf5.show(4)\n",
    "\n",
    "### Adding zero values to sdf5. This is a certain day, location and time interval that has so trips across the\n",
    "### whole year\n",
    "temp_sdf1 = spark.createDataFrame(data=list(zip(range(7), [0]*7)), schema = [\"day_of_week\", \"counts\"])\n",
    "temp_sdf2 = spark.range(1, num_locations+1).withColumnRenamed(\"id\",\"PULocationID\")\n",
    "# Cross join to get every combination of location ID and day of week\n",
    "temp_sdf3 = temp_sdf1.crossJoin(temp_sdf2)\n",
    "num_time_intervals = int((24*60*60)/(60*10)) # Num of seconds in a day, divided by num of seconds in 10 minutes\n",
    "temp_sdf4 = spark.range(0, num_time_intervals).withColumnRenamed(\"id\",\"time_interval\")\n",
    "# Cross join to get every combiantion of location ID and day of week and time_interval\n",
    "temp_sdf5 = temp_sdf3.crossJoin(temp_sdf4)\n",
    "\n",
    "# Removing rows in temp_sdf5 that are already in sdf5, so these are non zero counts\n",
    "temp_sdf5 = temp_sdf5.join(sdf5, [sdf5.day_of_week == temp_sdf5.day_of_week,\\\n",
    "                            sdf5.time_interval == temp_sdf5.time_interval,\\\n",
    "                            sdf5.PULocationID == temp_sdf5.PULocationID],\"leftanti\")\n",
    "# Now union temp_sdf5 with sdf5 to get those zero counts back into sdf5\n",
    "sdf5 = sdf5.union(temp_sdf5)\n",
    "sdf5.show(5)\n",
    "\n",
    "### Perform averaging\n",
    "def transform(x):\n",
    "    return x.day_of_week, x.time_interval, x.PULocationID, (x.counts/(366/7))\n",
    "rdd5 = sdf5.rdd.map(transform)\n",
    "sdf5 = rdd5.toDF([\"day_of_week\", \"time_interval\",\"PULocationID\", \"counts\"])\n",
    "sdf5.show(4)\n",
    "sdf5.persist(pyspark.StorageLevel.DISK_ONLY)\n",
    "\n",
    "sdf5.agg({'counts': 'max'}).show()"
   ]
  },
  {
   "cell_type": "code",
   "execution_count": 194,
   "id": "c7b8374c",
   "metadata": {},
   "outputs": [
    {
     "name": "stdout",
     "output_type": "stream",
     "text": [
      "+-------------------+-----------+-----------+-------------+------------+------+\n",
      "|         prediction|day_of_year|day_of_week|time_interval|PULocationID|counts|\n",
      "+-------------------+-----------+-----------+-------------+------------+------+\n",
      "|  4.226775956284153|        336|          1|            1|         234|     1|\n",
      "| 1.7595628415300546|        336|          1|            1|         236|     1|\n",
      "| 3.1748633879781423|        336|          1|            6|         161|     1|\n",
      "| 1.1666666666666667|        336|          1|           13|         132|     1|\n",
      "| 15.491803278688526|        336|          1|           47|         162|     8|\n",
      "|0.13387978142076504|        336|          1|           49|         242|     1|\n",
      "|   8.62568306010929|        336|          1|           59|         249|     6|\n",
      "|   9.96448087431694|        336|          1|           57|          79|     8|\n",
      "| 20.598360655737704|        336|          1|           57|         140|    22|\n",
      "|  20.65573770491803|        336|          1|           66|         161|    13|\n",
      "|  8.836065573770492|        336|          1|           72|         151|     9|\n",
      "| 14.478142076502733|        336|          1|           76|          48|    12|\n",
      "|  18.24590163934426|        336|          1|           81|         186|    15|\n",
      "|  22.39617486338798|        336|          1|           94|         234|    23|\n",
      "|0.09562841530054644|        336|          1|          105|         119|     2|\n",
      "|  8.740437158469945|        336|          1|          131|         138|     9|\n",
      "|  8.931693989071038|        336|          1|          130|         100|     5|\n",
      "| 0.5546448087431695|        336|          1|          132|          97|     1|\n",
      "| 1.5683060109289617|        336|          1|          134|          88|     2|\n",
      "|  5.259562841530054|        336|          1|          142|         100|     1|\n",
      "+-------------------+-----------+-----------+-------------+------------+------+\n",
      "only showing top 20 rows\n",
      "\n"
     ]
    }
   ],
   "source": [
    "### join sdf3 with sdf5 to have the predictions and labels in the same DF -> sdf6\n",
    "sdf_temp = sdf5.withColumnRenamed(\"counts\",\"prediction\")\n",
    "sdf6 = (sdf3.join(sdf_temp, [sdf3.day_of_week == sdf_temp.day_of_week,\\\n",
    "                sdf3.time_interval == sdf_temp.time_interval,\\\n",
    "                sdf3.PULocationID == sdf_temp.PULocationID],\"left\"))\\\n",
    "                .select(sdf_temp[\"prediction\"],sdf3[\"*\"])\n",
    "sdf6.show()"
   ]
  },
  {
   "cell_type": "code",
   "execution_count": 195,
   "id": "54143315",
   "metadata": {},
   "outputs": [
    {
     "name": "stderr",
     "output_type": "stream",
     "text": [
      "                                                                                \r"
     ]
    },
    {
     "name": "stdout",
     "output_type": "stream",
     "text": [
      "RMSE is 81.36594632015633\n"
     ]
    },
    {
     "name": "stderr",
     "output_type": "stream",
     "text": [
      "[Stage 1424:===================================================>(399 + 1) / 400]\r"
     ]
    },
    {
     "name": "stdout",
     "output_type": "stream",
     "text": [
      "R2 is -2.7731334406272805\n"
     ]
    },
    {
     "name": "stderr",
     "output_type": "stream",
     "text": [
      "\r",
      "                                                                                \r"
     ]
    }
   ],
   "source": [
    "print(\"Below are the metrics for the baseline model which consists of taking averages for each attribute combination\")\n",
    "print(f\"RMSE is {calcRMSE(sdf6, labelCol='counts')}\")\n",
    "print(f\"R2 is {calcRsq(sdf6, labelCol='counts')}\")"
   ]
  },
  {
   "cell_type": "code",
   "execution_count": 267,
   "id": "d393e492",
   "metadata": {},
   "outputs": [
    {
     "name": "stderr",
     "output_type": "stream",
     "text": [
      "                                                                                \r"
     ]
    },
    {
     "name": "stdout",
     "output_type": "stream",
     "text": [
      "+-----------+-----------+-------------+------------+---------------+-----------------+-----------------+\n",
      "|day_of_year|day_of_week|time_interval|PULocationID|day_of_week_vec|time_interval_vec| PULocationID_vec|\n",
      "+-----------+-----------+-------------+------------+---------------+-----------------+-----------------+\n",
      "|        336|          1|            0|         138|  (6,[1],[1.0])|  (143,[0],[1.0])|(265,[138],[1.0])|\n",
      "|        336|          1|            4|         140|  (6,[1],[1.0])|  (143,[4],[1.0])|(265,[140],[1.0])|\n",
      "|        336|          1|            3|         132|  (6,[1],[1.0])|  (143,[3],[1.0])|(265,[132],[1.0])|\n",
      "|        336|          1|            0|         238|  (6,[1],[1.0])|  (143,[0],[1.0])|(265,[238],[1.0])|\n",
      "|        336|          1|            3|         238|  (6,[1],[1.0])|  (143,[3],[1.0])|(265,[238],[1.0])|\n",
      "+-----------+-----------+-------------+------------+---------------+-----------------+-----------------+\n",
      "only showing top 5 rows\n",
      "\n",
      "+-----------+-----------+-------------+------------+---------------+-----------------+-----------------+--------------------+\n",
      "|day_of_year|day_of_week|time_interval|PULocationID|day_of_week_vec|time_interval_vec| PULocationID_vec|            features|\n",
      "+-----------+-----------+-------------+------------+---------------+-----------------+-----------------+--------------------+\n",
      "|        336|          1|            0|         138|  (6,[1],[1.0])|  (143,[0],[1.0])|(265,[138],[1.0])|(414,[1,6,287],[1...|\n",
      "|        336|          1|            4|         140|  (6,[1],[1.0])|  (143,[4],[1.0])|(265,[140],[1.0])|(414,[1,10,289],[...|\n",
      "|        336|          1|            3|         132|  (6,[1],[1.0])|  (143,[3],[1.0])|(265,[132],[1.0])|(414,[1,9,281],[1...|\n",
      "|        336|          1|            0|         238|  (6,[1],[1.0])|  (143,[0],[1.0])|(265,[238],[1.0])|(414,[1,6,387],[1...|\n",
      "|        336|          1|            3|         238|  (6,[1],[1.0])|  (143,[3],[1.0])|(265,[238],[1.0])|(414,[1,9,387],[1...|\n",
      "+-----------+-----------+-------------+------------+---------------+-----------------+-----------------+--------------------+\n",
      "only showing top 5 rows\n",
      "\n"
     ]
    },
    {
     "name": "stderr",
     "output_type": "stream",
     "text": [
      "                                                                                \r"
     ]
    }
   ],
   "source": [
    "### The blocks below investigate attribute interaction\n",
    "### One hot encode the attribtues of interest.\n",
    "### The previous one hot encoded data can't be used since it was aggregated over these attributes og interest\n",
    "### And the purpose of the correlation is to see patterns in how often some of these attributes occur together\n",
    "sdf6 = OneHotEncoder(inputCols = [\"day_of_week\",\"time_interval\",\"PULocationID\"], \\\n",
    "                     outputCols = [\"day_of_week_vec\",\"time_interval_vec\",\"PULocationID_vec\"]).fit(sdf2).transform(sdf2)\n",
    "sdf6.show(5)\n",
    "\n",
    "### Combinging the one hot encodes into a single vector\n",
    "vectorAssembler = VectorAssembler(inputCols = [\"day_of_week_vec\",\"time_interval_vec\",\"PULocationID_vec\"], \\\n",
    "                                  outputCol = 'features')\n",
    "sdf6 = vectorAssembler.transform(sdf6)\n",
    "sdf6.show(5)\n",
    "\n",
    "from pyspark.ml.stat import Correlation\n",
    "pearsonCorr = Correlation.corr(sdf6, 'features', 'pearson').collect()[0][0]"
   ]
  },
  {
   "cell_type": "code",
   "execution_count": 542,
   "id": "ee2f136d",
   "metadata": {
    "scrolled": false
   },
   "outputs": [
    {
     "name": "stdout",
     "output_type": "stream",
     "text": [
      "There are 0 nan values in the correlation matrix.\n",
      "The matrix has a shape of (414, 414)\n",
      "The max and min correlation are 0.038152995882999585 and -0.19133745245591496\n"
     ]
    },
    {
     "data": {
      "image/png": "[encoded data removed]",
      "text/plain": [
       "<Figure size 432x288 with 2 Axes>"
      ]
     },
     "metadata": {
      "needs_background": "light"
     },
     "output_type": "display_data"
    },
    {
     "data": {
      "image/png": "[encoded data removed]",
      "text/plain": [
       "<Figure size 432x288 with 2 Axes>"
      ]
     },
     "metadata": {
      "needs_background": "light"
     },
     "output_type": "display_data"
    },
    {
     "data": {
      "image/png": "[encoded data removed]",
      "text/plain": [
       "<Figure size 432x288 with 2 Axes>"
      ]
     },
     "metadata": {
      "needs_background": "light"
     },
     "output_type": "display_data"
    }
   ],
   "source": [
    "import numpy as np\n",
    "arr = pearsonCorr.toArray()\n",
    "print(f\"There are {np.sum(np.isnan(pearsonCorr.toArray()))} nan values in the correlation matrix.\")\n",
    "print(f\"The matrix has a shape of {arr.shape}\")\n",
    "np.nan_to_num(arr, copy=False, nan=0.0)\n",
    "print(f\"The max and min correlation are {np.max(arr)} and {np.min(arr)}\")\n",
    "\n",
    "import seaborn as sns\n",
    "# Changing the diagonal elements to 0\n",
    "for i in range(len(arr)):\n",
    "    arr[i][i] = 0\n",
    "\n",
    "# Plot the Day vs Location\n",
    "sns_plot = sns.heatmap(arr[:7, 7+144:])\n",
    "sns_plot.set(xlabel=\"Location ID\", ylabel = \"Day\")\n",
    "sns_plot.set_title(\"Correlation Matrix - Day vs Location ID\")\n",
    "sns_plot.figure.savefig('plots/Day vs Location ID.png',dpi=600)\n",
    "plt.show()\n",
    "\n",
    "# Plot the Location vs Time\n",
    "sns_plot = sns.heatmap(arr[7+144:,7:7+144])\n",
    "sns_plot.set(xlabel=\"Time Interval\", ylabel = \"Location ID\")\n",
    "sns_plot.set_title(\"Correlation Matrix - Location ID vs Time Interval\")\n",
    "sns_plot.figure.savefig('plots/Location ID vs Time Interval.png',dpi=600)\n",
    "plt.show()\n",
    "\n",
    "# Plot the Day vs Time\n",
    "sns_plot = sns.heatmap(arr[:7,7:7+144])\n",
    "sns_plot.set(xlabel=\"Time Interval\", ylabel = \"Day\")\n",
    "sns_plot.set_title(\"Correlation Matrix - Day vs Time Interval\")\n",
    "sns_plot.figure.savefig('plots/Day vs Time Interval.png',dpi=600)\n",
    "plt.show()"
   ]
  },
  {
   "cell_type": "code",
   "execution_count": 555,
   "id": "a04754bb",
   "metadata": {
    "scrolled": false
   },
   "outputs": [],
   "source": [
    "### Reading in and interpolating temperature data\n",
    "import pandas as pd\n",
    "df = pd.read_csv(\"NOAA/72505394728.csv\")\n",
    "df = df[[\"DATE\", \"HourlyDryBulbTemperature\"]]\n",
    "df = df.dropna()\n",
    "df[\"DATE\"] = pd.to_datetime(df[\"DATE\"])\n",
    "df = df.drop_duplicates(subset = [\"DATE\"])\n",
    "\n",
    "# Function to convert to minutes since the start of 2020\n",
    "def f(x):\n",
    "    minutes_in_day = 24*60\n",
    "    minutes_in_hour = 60\n",
    "    return ((x.timetuple().tm_yday-1) * minutes_in_day) + (x.hour * minutes_in_hour) + x.minute\n",
    "df[\"DATE\"] = df[\"DATE\"].apply(f)\n",
    "\n",
    "# Filter out all characters from the temperature column\n",
    "import re\n",
    "def f(x):\n",
    "    if isinstance(x, str):\n",
    "        return re.sub('\\D', '', x)\n",
    "    return x\n",
    "df[\"HourlyDryBulbTemperature\"] = df[\"HourlyDryBulbTemperature\"].apply(f)\n",
    "\n",
    "# DF2 that contains all minutes for the whole year\n",
    "df2 = pd.DataFrame(range(366*24*60), columns = [\"DATE\"])\n",
    "df = df.merge(df2, on=\"DATE\", how=\"right\")\n",
    "# Replace the first row of the new df that contains all minutes for the whole year with the first acutal\n",
    "# temperature value, which in this case is 40F. This is to assist with interpolation\n",
    "df.loc[df['DATE'] == 0, ['HourlyDryBulbTemperature']] = df.dropna()['HourlyDryBulbTemperature'].iloc[0]\n",
    "\n",
    "# Convert to float and interpolate\n",
    "df[\"HourlyDryBulbTemperature\"] = df[\"HourlyDryBulbTemperature\"].astype(float).interpolate()\n",
    "\n",
    "# Since we're working with 10 minute intervals, drop everything that's not a multiple of 10\n",
    "df = df[df[\"DATE\"]%10 == 0]\n",
    "# Convert the Date ID back to datetime\n",
    "OG_date = datetime.datetime(2020,1,1)\n",
    "def f(x):\n",
    "    return OG_date + datetime.timedelta(minutes=x)\n",
    "df[\"actual_date\"] = df[\"DATE\"].apply(f)\n",
    "\n",
    "# Convert the actual date into day_of_week, day_of_year, and time_interval\n",
    "def transform(time):\n",
    "    time_interval = 60*10 # 10 minute interval\n",
    "    time_interval_index = ((time.hour*3600) + (time.minute*60) + (time.second))//time_interval\n",
    "    return time.timetuple().tm_yday, time.weekday(), time_interval_index\n",
    "\n",
    "sdf_dates_df = pd.DataFrame(df[\"actual_date\"].apply(transform).tolist(), \\\n",
    "                            columns=[\"day_of_year\", \"day_of_week\", \"time_interval\"])\n",
    "df = pd.concat([df.reset_index(), sdf_dates_df.reset_index()], axis=1)\n",
    "df = df.drop(columns = [\"index\", \"DATE\", \"actual_date\", \"index\"])\n",
    "\n",
    "### Join the temperature data with sdf3\n",
    "sdf7 = spark.createDataFrame(df)\n",
    "sdf7 = sdf4.join(sdf7, [\"day_of_year\", \"day_of_week\", \"time_interval\"])"
   ]
  },
  {
   "cell_type": "code",
   "execution_count": 517,
   "id": "151cf32e",
   "metadata": {
    "scrolled": false
   },
   "outputs": [
    {
     "name": "stderr",
     "output_type": "stream",
     "text": [
      "                                                                                \r"
     ]
    },
    {
     "data": {
      "image/png": "[encoded data removed]",
      "text/plain": [
       "<Figure size 432x288 with 1 Axes>"
      ]
     },
     "metadata": {
      "needs_background": "light"
     },
     "output_type": "display_data"
    }
   ],
   "source": [
    "### Temperature vs Time Interval\n",
    "nums = sdf7.groupby([\"time_interval\"]).agg({'HourlyDryBulbTemperature': 'avg'}).collect()\n",
    "nums = sorted(nums, key = lambda x: x[\"time_interval\"])\n",
    "intervals, temps = list(zip(*nums))\n",
    "plt.plot(intervals, temps)\n",
    "plt.title('Temperature vs Time Interval')\n",
    "plt.xlabel('Time Interval')\n",
    "plt.ylabel('Temperature')\n",
    "plt.savefig('plots/Temperature vs Time Interval.png')\n",
    "plt.show()\n",
    "\n"
   ]
  },
  {
   "cell_type": "code",
   "execution_count": 553,
   "id": "ae86c612",
   "metadata": {},
   "outputs": [
    {
     "name": "stderr",
     "output_type": "stream",
     "text": [
      "                                                                                \r"
     ]
    },
    {
     "data": {
      "image/png": "[encoded data removed]",
      "text/plain": [
       "<Figure size 432x288 with 1 Axes>"
      ]
     },
     "metadata": {
      "needs_background": "light"
     },
     "output_type": "display_data"
    }
   ],
   "source": [
    "### Pick Up count vs Temperature for Location ID 100\n",
    "data = sdf7.filter((sdf7.PULocationID == 100)&(sdf7.day_of_year < 90)) \\\n",
    "    .select([\"counts\", \"HourlyDryBulbTemperature\"]).collect()\n",
    "counts, temps = list(zip(*data))\n",
    "plt.scatter(temps,counts,s=0.1)\n",
    "plt.title('Pick Up Count vs Temperature for Location ID 100')\n",
    "plt.ylabel('Pick Up Count')\n",
    "plt.xlabel('Temperature')\n",
    "plt.savefig('plots/Pick Up Count vs Temperature for Location ID 100 (3 months).png')\n",
    "plt.show()\n"
   ]
  },
  {
   "cell_type": "code",
   "execution_count": 561,
   "id": "b841b938",
   "metadata": {},
   "outputs": [
    {
     "name": "stderr",
     "output_type": "stream",
     "text": [
      "                                                                                \r"
     ]
    },
    {
     "name": "stdout",
     "output_type": "stream",
     "text": [
      "+------------------+------+--------------------+\n",
      "|        prediction|counts|            features|\n",
      "+------------------+------+--------------------+\n",
      "|7.4739932200780155|     9|(414,[2,9,153],[1...|\n",
      "|7.4739932200780155|     1|(414,[2,9,159],[1...|\n",
      "|7.4739932200780155|    13|(414,[2,9,162],[1...|\n",
      "|7.4739932200780155|     1|(414,[2,9,164],[1...|\n",
      "|7.4739932200780155|     2|(414,[2,9,166],[1...|\n",
      "+------------------+------+--------------------+\n",
      "only showing top 5 rows\n",
      "\n"
     ]
    },
    {
     "name": "stderr",
     "output_type": "stream",
     "text": [
      "                                                                                \r"
     ]
    },
    {
     "name": "stdout",
     "output_type": "stream",
     "text": [
      "R Squared (R2) on train data = 0.298522\n"
     ]
    },
    {
     "name": "stderr",
     "output_type": "stream",
     "text": [
      "                                                                                \r"
     ]
    },
    {
     "name": "stdout",
     "output_type": "stream",
     "text": [
      "RMSE on train data = 38.3729\n"
     ]
    },
    {
     "name": "stderr",
     "output_type": "stream",
     "text": [
      "                                                                                \r"
     ]
    },
    {
     "name": "stdout",
     "output_type": "stream",
     "text": [
      "+------------------+------+--------------------+\n",
      "|        prediction|counts|            features|\n",
      "+------------------+------+--------------------+\n",
      "|7.4739932200780155|     1|(414,[2,9,152],[1...|\n",
      "|7.4739932200780155|     5|(414,[2,9,156],[1...|\n",
      "|7.4739932200780155|     1|(414,[2,9,167],[1...|\n",
      "|7.4739932200780155|     1|(414,[2,9,185],[1...|\n",
      "|7.4739932200780155|     5|(414,[2,9,194],[1...|\n",
      "+------------------+------+--------------------+\n",
      "only showing top 5 rows\n",
      "\n"
     ]
    },
    {
     "name": "stderr",
     "output_type": "stream",
     "text": [
      "                                                                                \r"
     ]
    },
    {
     "name": "stdout",
     "output_type": "stream",
     "text": [
      "R Squared (R2) on test data = 0.298332\n"
     ]
    },
    {
     "name": "stderr",
     "output_type": "stream",
     "text": [
      "[Stage 2694:===================================================>(199 + 1) / 200]\r"
     ]
    },
    {
     "name": "stdout",
     "output_type": "stream",
     "text": [
      "RMSE on test data = 38.385\n"
     ]
    },
    {
     "name": "stderr",
     "output_type": "stream",
     "text": [
      "\r",
      "                                                                                \r"
     ]
    }
   ],
   "source": [
    "### Decision tree regression with temperature\n",
    "from pyspark.ml.regression import DecisionTreeRegressor\n",
    "dtr = DecisionTreeRegressor(labelCol='counts', featuresCol = 'features')\n",
    "\n",
    "splits = sdf7.randomSplit([0.7, 0.3])\n",
    "train_sdf7 = splits[0]\n",
    "test_sdf7 = splits[1]\n",
    "                 \n",
    "dtr_model = dtr.fit(train_sdf7)\n",
    "\n",
    "### Evaluate the Decision tree regression model\n",
    "from pyspark.ml.evaluation import RegressionEvaluator\n",
    "### Training Data\n",
    "dtr_predictions = dtr_model.transform(train_sdf7)\n",
    "dtr_evaluator = RegressionEvaluator(predictionCol=\"prediction\", labelCol=\"counts\",metricName=\"r2\")\n",
    "print(\"R Squared (R2) on train data = %g\" % dtr_evaluator.evaluate(dtr_predictions))\n",
    "dtr_evaluator = RegressionEvaluator(predictionCol=\"prediction\", labelCol=\"counts\",metricName=\"rmse\")\n",
    "print(\"RMSE on train data = %g\" % dtr_evaluator.evaluate(dtr_predictions))\n",
    "\n",
    "### Test Data\n",
    "dtr_predictions = dtr_model.transform(test_sdf7)\n",
    "dtr_evaluator = RegressionEvaluator(predictionCol=\"prediction\", labelCol=\"counts\",metricName=\"r2\")\n",
    "print(\"R Squared (R2) on test data = %g\" % dtr_evaluator.evaluate(dtr_predictions))\n",
    "dtr_evaluator = RegressionEvaluator(predictionCol=\"prediction\", labelCol=\"counts\",metricName=\"rmse\")\n",
    "print(\"RMSE on test data = %g\" % dtr_evaluator.evaluate(dtr_predictions))\n"
   ]
  },
  {
   "cell_type": "code",
   "execution_count": 562,
   "id": "8fe14ebc",
   "metadata": {},
   "outputs": [
    {
     "name": "stderr",
     "output_type": "stream",
     "text": [
      "                                                                                \r"
     ]
    },
    {
     "name": "stdout",
     "output_type": "stream",
     "text": [
      "R Squared (R2) on train data = 0.296375\n"
     ]
    },
    {
     "name": "stderr",
     "output_type": "stream",
     "text": [
      "                                                                                \r"
     ]
    },
    {
     "name": "stdout",
     "output_type": "stream",
     "text": [
      "RMSE on train data = 38.4362\n"
     ]
    },
    {
     "name": "stderr",
     "output_type": "stream",
     "text": [
      "                                                                                \r"
     ]
    },
    {
     "name": "stdout",
     "output_type": "stream",
     "text": [
      "R Squared (R2) on test data = 0.295677\n"
     ]
    },
    {
     "name": "stderr",
     "output_type": "stream",
     "text": [
      "[Stage 2769:===================================================>(199 + 1) / 200]\r"
     ]
    },
    {
     "name": "stdout",
     "output_type": "stream",
     "text": [
      "RMSE on test data = 38.4469\n"
     ]
    },
    {
     "name": "stderr",
     "output_type": "stream",
     "text": [
      "\r",
      "                                                                                \r"
     ]
    }
   ],
   "source": [
    "### Decision tree regression with temperature\n",
    "from pyspark.ml.regression import RandomForestRegressor\n",
    "rfr = RandomForestRegressor(labelCol='counts', featuresCol = 'features')\n",
    "\n",
    "splits = sdf7.randomSplit([0.7, 0.3])\n",
    "train_sdf7 = splits[0]\n",
    "test_sdf7 = splits[1]\n",
    "                 \n",
    "rfr_model = rfr.fit(train_sdf7)\n",
    "\n",
    "### Evaluate the Decision tree regression model\n",
    "from pyspark.ml.evaluation import RegressionEvaluator\n",
    "### Training Data\n",
    "rfr_predictions = rfr_model.transform(train_sdf7)\n",
    "rfr_evaluator = RegressionEvaluator(predictionCol=\"prediction\", labelCol=\"counts\",metricName=\"r2\")\n",
    "print(\"R Squared (R2) on train data = %g\" % rfr_evaluator.evaluate(rfr_predictions))\n",
    "rfr_evaluator = RegressionEvaluator(predictionCol=\"prediction\", labelCol=\"counts\",metricName=\"rmse\")\n",
    "print(\"RMSE on train data = %g\" % rfr_evaluator.evaluate(rfr_predictions))\n",
    "\n",
    "### Test Data\n",
    "rfr_predictions = rfr_model.transform(test_sdf7)\n",
    "rfr_evaluator = RegressionEvaluator(predictionCol=\"prediction\", labelCol=\"counts\",metricName=\"r2\")\n",
    "print(\"R Squared (R2) on test data = %g\" % rfr_evaluator.evaluate(rfr_predictions))\n",
    "rfr_evaluator = RegressionEvaluator(predictionCol=\"prediction\", labelCol=\"counts\",metricName=\"rmse\")\n",
    "print(\"RMSE on test data = %g\" % rfr_evaluator.evaluate(rfr_predictions))\n"
   ]
  },
  {
   "cell_type": "code",
   "execution_count": null,
   "id": "c62b635c",
   "metadata": {},
   "outputs": [],
   "source": []
  }
 ],
 "metadata": {
  "kernelspec": {
   "display_name": "Python 3 (ipykernel)",
   "language": "python",
   "name": "python3"
  },
  "language_info": {
   "codemirror_mode": {
    "name": "ipython",
    "version": 3
   },
   "file_extension": ".py",
   "mimetype": "text/x-python",
   "name": "python",
   "nbconvert_exporter": "python",
   "pygments_lexer": "ipython3",
   "version": "3.8.10"
  }
 },
 "nbformat": 4,
 "nbformat_minor": 5
}
